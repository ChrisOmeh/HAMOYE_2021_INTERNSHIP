{
 "cells": [
  {
   "cell_type": "markdown",
   "metadata": {},
   "source": [
    "# Intern Details\n",
    "* Name: Omeh Chukwuemeka\n",
    "* Track: Data Science\n",
    "* Email: chukwuemekao241@gmail.com"
   ]
  },
  {
   "cell_type": "markdown",
   "metadata": {},
   "source": [
    "# Importing Necessary Libraries"
   ]
  },
  {
   "cell_type": "code",
   "execution_count": 1,
   "metadata": {},
   "outputs": [],
   "source": [
    "import pandas as pd\n",
    "import numpy as np"
   ]
  },
  {
   "cell_type": "markdown",
   "metadata": {},
   "source": [
    "# Loading Dataset"
   ]
  },
  {
   "cell_type": "code",
   "execution_count": 2,
   "metadata": {},
   "outputs": [
    {
     "name": "stdout",
     "output_type": "stream",
     "text": [
      "The dataset have 29523 rows and 11 columns\n"
     ]
    }
   ],
   "source": [
    "data_url = \"https://raw.githubusercontent.com/WalePhenomenon/climate_change/master/fuel_ferc1.csv\"\n",
    "fuel_data = pd.read_csv(data_url)\n",
    "\n",
    "print(f\"The dataset have {fuel_data.shape[0]} rows and {fuel_data.shape[1]} columns\")"
   ]
  },
  {
   "cell_type": "code",
   "execution_count": 3,
   "metadata": {},
   "outputs": [
    {
     "data": {
      "text/html": [
       "<div>\n",
       "<style scoped>\n",
       "    .dataframe tbody tr th:only-of-type {\n",
       "        vertical-align: middle;\n",
       "    }\n",
       "\n",
       "    .dataframe tbody tr th {\n",
       "        vertical-align: top;\n",
       "    }\n",
       "\n",
       "    .dataframe thead th {\n",
       "        text-align: right;\n",
       "    }\n",
       "</style>\n",
       "<table border=\"1\" class=\"dataframe\">\n",
       "  <thead>\n",
       "    <tr style=\"text-align: right;\">\n",
       "      <th></th>\n",
       "      <th>record_id</th>\n",
       "      <th>utility_id_ferc1</th>\n",
       "      <th>report_year</th>\n",
       "      <th>plant_name_ferc1</th>\n",
       "      <th>fuel_type_code_pudl</th>\n",
       "      <th>fuel_unit</th>\n",
       "      <th>fuel_qty_burned</th>\n",
       "      <th>fuel_mmbtu_per_unit</th>\n",
       "      <th>fuel_cost_per_unit_burned</th>\n",
       "      <th>fuel_cost_per_unit_delivered</th>\n",
       "      <th>fuel_cost_per_mmbtu</th>\n",
       "    </tr>\n",
       "  </thead>\n",
       "  <tbody>\n",
       "    <tr>\n",
       "      <th>0</th>\n",
       "      <td>f1_fuel_1994_12_1_0_7</td>\n",
       "      <td>1</td>\n",
       "      <td>1994</td>\n",
       "      <td>rockport</td>\n",
       "      <td>coal</td>\n",
       "      <td>ton</td>\n",
       "      <td>5377489.0</td>\n",
       "      <td>16.590</td>\n",
       "      <td>18.59</td>\n",
       "      <td>18.53</td>\n",
       "      <td>1.121</td>\n",
       "    </tr>\n",
       "    <tr>\n",
       "      <th>1</th>\n",
       "      <td>f1_fuel_1994_12_1_0_10</td>\n",
       "      <td>1</td>\n",
       "      <td>1994</td>\n",
       "      <td>rockport total plant</td>\n",
       "      <td>coal</td>\n",
       "      <td>ton</td>\n",
       "      <td>10486945.0</td>\n",
       "      <td>16.592</td>\n",
       "      <td>18.58</td>\n",
       "      <td>18.53</td>\n",
       "      <td>1.120</td>\n",
       "    </tr>\n",
       "    <tr>\n",
       "      <th>2</th>\n",
       "      <td>f1_fuel_1994_12_2_0_1</td>\n",
       "      <td>2</td>\n",
       "      <td>1994</td>\n",
       "      <td>gorgas</td>\n",
       "      <td>coal</td>\n",
       "      <td>ton</td>\n",
       "      <td>2978683.0</td>\n",
       "      <td>24.130</td>\n",
       "      <td>39.72</td>\n",
       "      <td>38.12</td>\n",
       "      <td>1.650</td>\n",
       "    </tr>\n",
       "    <tr>\n",
       "      <th>3</th>\n",
       "      <td>f1_fuel_1994_12_2_0_7</td>\n",
       "      <td>2</td>\n",
       "      <td>1994</td>\n",
       "      <td>barry</td>\n",
       "      <td>coal</td>\n",
       "      <td>ton</td>\n",
       "      <td>3739484.0</td>\n",
       "      <td>23.950</td>\n",
       "      <td>47.21</td>\n",
       "      <td>45.99</td>\n",
       "      <td>1.970</td>\n",
       "    </tr>\n",
       "    <tr>\n",
       "      <th>4</th>\n",
       "      <td>f1_fuel_1994_12_2_0_10</td>\n",
       "      <td>2</td>\n",
       "      <td>1994</td>\n",
       "      <td>chickasaw</td>\n",
       "      <td>gas</td>\n",
       "      <td>mcf</td>\n",
       "      <td>40533.0</td>\n",
       "      <td>1.000</td>\n",
       "      <td>2.77</td>\n",
       "      <td>2.77</td>\n",
       "      <td>2.570</td>\n",
       "    </tr>\n",
       "    <tr>\n",
       "      <th>5</th>\n",
       "      <td>f1_fuel_1994_12_2_0_13</td>\n",
       "      <td>2</td>\n",
       "      <td>1994</td>\n",
       "      <td>e. c. gaston-unit 5</td>\n",
       "      <td>coal</td>\n",
       "      <td>ton</td>\n",
       "      <td>2124933.0</td>\n",
       "      <td>23.922</td>\n",
       "      <td>44.24</td>\n",
       "      <td>43.25</td>\n",
       "      <td>1.850</td>\n",
       "    </tr>\n",
       "  </tbody>\n",
       "</table>\n",
       "</div>"
      ],
      "text/plain": [
       "                record_id  utility_id_ferc1  report_year  \\\n",
       "0   f1_fuel_1994_12_1_0_7                 1         1994   \n",
       "1  f1_fuel_1994_12_1_0_10                 1         1994   \n",
       "2   f1_fuel_1994_12_2_0_1                 2         1994   \n",
       "3   f1_fuel_1994_12_2_0_7                 2         1994   \n",
       "4  f1_fuel_1994_12_2_0_10                 2         1994   \n",
       "5  f1_fuel_1994_12_2_0_13                 2         1994   \n",
       "\n",
       "       plant_name_ferc1 fuel_type_code_pudl fuel_unit  fuel_qty_burned  \\\n",
       "0              rockport                coal       ton        5377489.0   \n",
       "1  rockport total plant                coal       ton       10486945.0   \n",
       "2                gorgas                coal       ton        2978683.0   \n",
       "3                 barry                coal       ton        3739484.0   \n",
       "4             chickasaw                 gas       mcf          40533.0   \n",
       "5   e. c. gaston-unit 5                coal       ton        2124933.0   \n",
       "\n",
       "   fuel_mmbtu_per_unit  fuel_cost_per_unit_burned  \\\n",
       "0               16.590                      18.59   \n",
       "1               16.592                      18.58   \n",
       "2               24.130                      39.72   \n",
       "3               23.950                      47.21   \n",
       "4                1.000                       2.77   \n",
       "5               23.922                      44.24   \n",
       "\n",
       "   fuel_cost_per_unit_delivered  fuel_cost_per_mmbtu  \n",
       "0                         18.53                1.121  \n",
       "1                         18.53                1.120  \n",
       "2                         38.12                1.650  \n",
       "3                         45.99                1.970  \n",
       "4                          2.77                2.570  \n",
       "5                         43.25                1.850  "
      ]
     },
     "execution_count": 3,
     "metadata": {},
     "output_type": "execute_result"
    }
   ],
   "source": [
    "fuel_data.head(n = 6)"
   ]
  },
  {
   "cell_type": "code",
   "execution_count": 4,
   "metadata": {},
   "outputs": [
    {
     "data": {
      "text/plain": [
       "record_id                        object\n",
       "utility_id_ferc1                  int64\n",
       "report_year                       int64\n",
       "plant_name_ferc1                 object\n",
       "fuel_type_code_pudl              object\n",
       "fuel_unit                        object\n",
       "fuel_qty_burned                 float64\n",
       "fuel_mmbtu_per_unit             float64\n",
       "fuel_cost_per_unit_burned       float64\n",
       "fuel_cost_per_unit_delivered    float64\n",
       "fuel_cost_per_mmbtu             float64\n",
       "dtype: object"
      ]
     },
     "execution_count": 4,
     "metadata": {},
     "output_type": "execute_result"
    }
   ],
   "source": [
    "fuel_data.dtypes"
   ]
  },
  {
   "cell_type": "markdown",
   "metadata": {},
   "source": [
    "\n",
    "# Question 1\n",
    "\n",
    "If you’re given two lists:\n",
    "\n",
    "A = [1,2,3,4,5,6], B = [13, 21, 34]\n",
    "\n",
    "The task is to create a list with the elements of A and B in a single dimension with output:\n",
    "\n",
    "A_B = [1,2,3,4,5,6,13, 21, 34]\n",
    "\n",
    "Which of the following option is the best way to create this list?\n"
   ]
  },
  {
   "cell_type": "code",
   "execution_count": 5,
   "metadata": {},
   "outputs": [
    {
     "name": "stdout",
     "output_type": "stream",
     "text": [
      "[1, 2, 3, 4, 5, 6, 13, 21, 34]\n"
     ]
    }
   ],
   "source": [
    "A = [1,2,3,4,5,6]\n",
    "B = [13,21,34]\n",
    "A.extend(B)\n",
    "A_B = A\n",
    "print(A_B)"
   ]
  },
  {
   "cell_type": "markdown",
   "metadata": {},
   "source": [
    "# Question 2\n",
    "\n",
    "How do you create an identity matrix in python?"
   ]
  },
  {
   "cell_type": "code",
   "execution_count": 6,
   "metadata": {},
   "outputs": [
    {
     "name": "stdout",
     "output_type": "stream",
     "text": [
      "[[1. 0. 0.]\n",
      " [0. 1. 0.]\n",
      " [0. 0. 1.]]\n"
     ]
    }
   ],
   "source": [
    "# A 3 x 3 Identity matrix \n",
    "\n",
    "identity_matrix = np.identity(3)\n",
    "print(identity_matrix)"
   ]
  },
  {
   "cell_type": "markdown",
   "metadata": {},
   "source": [
    "# Question 3¶\n",
    "\n",
    "Which of the following fuel type code has the lowest average fuel cost per unit burned?"
   ]
  },
  {
   "cell_type": "code",
   "execution_count": 7,
   "metadata": {},
   "outputs": [
    {
     "name": "stdout",
     "output_type": "stream",
     "text": [
      "The fuel type code with lowest average fuel cost per unit burned is: gas\n"
     ]
    }
   ],
   "source": [
    "# Ans = Gas\n",
    "fuel_type_average = dict(fuel_data.groupby(\"fuel_type_code_pudl\")[\"fuel_cost_per_unit_burned\"].mean())\n",
    "print(f\"The fuel type code with lowest average fuel cost per unit burned is: {min(fuel_type_average, key=fuel_type_average.get)}\")"
   ]
  },
  {
   "cell_type": "code",
   "execution_count": 8,
   "metadata": {},
   "outputs": [
    {
     "data": {
      "text/plain": [
       "fuel_type_code_pudl\n",
       "nuclear    4955.157002\n",
       "oil         168.877086\n",
       "coal         67.421830\n",
       "waste        19.518122\n",
       "other        18.253856\n",
       "gas          13.659397\n",
       "Name: fuel_cost_per_unit_burned, dtype: float64"
      ]
     },
     "execution_count": 8,
     "metadata": {},
     "output_type": "execute_result"
    }
   ],
   "source": [
    "fuel_data.groupby(\"fuel_type_code_pudl\")[\"fuel_cost_per_unit_burned\"].mean().sort_values(ascending = False)"
   ]
  },
  {
   "cell_type": "markdown",
   "metadata": {},
   "source": [
    "# Question 4\n",
    "\n",
    "What is the standard deviation and 75th percentile of the measure of energy per unit (Fuel_mmbtu_per_unit) in two decimal places?"
   ]
  },
  {
   "cell_type": "code",
   "execution_count": 9,
   "metadata": {},
   "outputs": [
    {
     "name": "stdout",
     "output_type": "stream",
     "text": [
      "The standard deviation for fuel_mmbtu_per_unit is: 10.6\n",
      "The 75th percentile for fuel_mmbtu_per_unit is: 17.01\n"
     ]
    }
   ],
   "source": [
    "summary_stats = fuel_data[\"fuel_mmbtu_per_unit\"].describe()\n",
    "print(f\"The standard deviation for fuel_mmbtu_per_unit is: {summary_stats['std'].round(2)}\")\n",
    "print(f\"The 75th percentile for fuel_mmbtu_per_unit is: {summary_stats['75%'].round(2)}\")"
   ]
  },
  {
   "cell_type": "markdown",
   "metadata": {},
   "source": [
    "# Question 5\n",
    "\n",
    "What is the skewness and kurtosis for the fuel quantity burned in two decimal places?"
   ]
  },
  {
   "cell_type": "code",
   "execution_count": 10,
   "metadata": {},
   "outputs": [
    {
     "name": "stdout",
     "output_type": "stream",
     "text": [
      "The skewness of fuel_qty_burned is: 15.85\n",
      "The kurtosis of fuel_qty_burned is: 651.37\n"
     ]
    }
   ],
   "source": [
    "skewness_fuel_qty_burned = fuel_data[\"fuel_qty_burned\"].skew()\n",
    "kurtosis_fuel_qty_burned = fuel_data[\"fuel_qty_burned\"].kurt()\n",
    "\n",
    "print(f\"The skewness of fuel_qty_burned is: {round(skewness_fuel_qty_burned, 2)}\")\n",
    "print(f\"The kurtosis of fuel_qty_burned is: {round(kurtosis_fuel_qty_burned, 2)}\")"
   ]
  },
  {
   "cell_type": "markdown",
   "metadata": {},
   "source": [
    "# Question 6\n",
    "\n",
    "Which feature has missing values and what is the total number of missing value and percentage of the missing rows as a factor of the total number of rows in three decimal places?\n",
    "\n",
    "(Enter answer in the format: Feature: xxx, Total: xxx, Percent: xxx)"
   ]
  },
  {
   "cell_type": "code",
   "execution_count": 11,
   "metadata": {},
   "outputs": [
    {
     "data": {
      "text/plain": [
       "record_id                         0\n",
       "utility_id_ferc1                  0\n",
       "report_year                       0\n",
       "plant_name_ferc1                  0\n",
       "fuel_type_code_pudl               0\n",
       "fuel_unit                       180\n",
       "fuel_qty_burned                   0\n",
       "fuel_mmbtu_per_unit               0\n",
       "fuel_cost_per_unit_burned         0\n",
       "fuel_cost_per_unit_delivered      0\n",
       "fuel_cost_per_mmbtu               0\n",
       "dtype: int64"
      ]
     },
     "execution_count": 11,
     "metadata": {},
     "output_type": "execute_result"
    }
   ],
   "source": [
    "fuel_data.isna().sum()"
   ]
  },
  {
   "cell_type": "code",
   "execution_count": 12,
   "metadata": {},
   "outputs": [
    {
     "name": "stdout",
     "output_type": "stream",
     "text": [
      "The number of missing values in fuel_unit column is: 180\n",
      "The total number of rows of fuel_unit column is: 29523\n",
      "The percentage of missing values is: 0.610 \n",
      " False    99.39\n",
      "True      0.61\n",
      "Name: fuel_unit, dtype: float64\n"
     ]
    }
   ],
   "source": [
    "# PERCENTAGE OF MISSING VALUES == 0.610 in 3 decimal places\n",
    "missing_column = \"fuel_unit\"\n",
    "print(f\"The number of missing values in fuel_unit column is: {fuel_data[missing_column].isnull().sum()}\")\n",
    "print(f\"The total number of rows of fuel_unit column is: {fuel_data[missing_column].shape[0]}\")\n",
    "print(\"The percentage of missing values is: 0.610\",'\\n',round(fuel_data[missing_column].isna().value_counts(normalize = True)*100,3))"
   ]
  },
  {
   "cell_type": "code",
   "execution_count": 13,
   "metadata": {},
   "outputs": [
    {
     "name": "stdout",
     "output_type": "stream",
     "text": [
      "The Number of Missing Values is: 180\n",
      "The Total Number of rows of fuel_unit is: 29523\n",
      "The Percentage of missing values in fuel_unit column is:0.61\n"
     ]
    }
   ],
   "source": [
    "# WE CAN ALSO FIND PERCENTAGE OF MISSING VALUE USING BELOW APPROACH\n",
    "missing_values = fuel_data.fuel_unit.isnull().sum()\n",
    "print(f'The Number of Missing Values is: {missing_values}')\n",
    "print(f'The Total Number of rows of fuel_unit is: {fuel_data.fuel_unit.shape[0]}')\n",
    "percentage_missing_value = (missing_values / fuel_data.fuel_unit.shape[0]) * 100\n",
    "print(f'The Percentage of missing values in fuel_unit column is:{round(percentage_missing_value, 3)}')"
   ]
  },
  {
   "cell_type": "markdown",
   "metadata": {},
   "source": [
    "# Question 7\n",
    "\n",
    "The feature with missing values falls under what category? What missing value imputation technique would you use?"
   ]
  },
  {
   "cell_type": "code",
   "execution_count": 14,
   "metadata": {},
   "outputs": [
    {
     "name": "stdout",
     "output_type": "stream",
     "text": [
      "THE MISSING VALUE FALL UNDER THE object DATA TYPE \n",
      "\n",
      "======================================================================================================== \n",
      "\n",
      "THE MISSING VALUE IMPUTATION TECHNIQUES FOR CATEGORICAL/OBJECT DATA TYPES IS: MODE(MOST FREQUENT) \n",
      " 0    mcf\n",
      "dtype: object\n"
     ]
    }
   ],
   "source": [
    "column = fuel_data.columns\n",
    "for col in column:\n",
    "    if fuel_data[col].isnull().any():\n",
    "        print(f\"THE MISSING VALUE FALL UNDER THE {fuel_data[col].dtypes} DATA TYPE\", '\\n')\n",
    "print(\"========================================================================================================\", '\\n')\n",
    "print(\"THE MISSING VALUE IMPUTATION TECHNIQUES FOR CATEGORICAL/OBJECT DATA TYPES IS: MODE(MOST FREQUENT)\",'\\n', fuel_data.fuel_unit.mode())\n",
    "\n",
    "#fuel_data[[ 'fuel_unit' ]] = fuel_data[[ 'fuel_unit' ]].fillna(value= 'mcf')"
   ]
  },
  {
   "cell_type": "markdown",
   "metadata": {},
   "source": [
    "# Question 8\n",
    "\n",
    "Which of the features has the second and third lowest correlation with the Fuel Cost Per Unit Burned?"
   ]
  },
  {
   "cell_type": "code",
   "execution_count": 15,
   "metadata": {},
   "outputs": [
    {
     "name": "stdout",
     "output_type": "stream",
     "text": [
      "==========THE SECOND AND THIRD LOWEST CORRELATION WITH FUEL COST PER UNIT BURNED IS==========\n"
     ]
    },
    {
     "data": {
      "text/plain": [
       "fuel_qty_burned       -0.018535\n",
       "fuel_mmbtu_per_unit   -0.010034\n",
       "dtype: float64"
      ]
     },
     "execution_count": 15,
     "metadata": {},
     "output_type": "execute_result"
    }
   ],
   "source": [
    "print(\"==========THE SECOND AND THIRD LOWEST CORRELATION WITH FUEL COST PER UNIT BURNED IS==========\")\n",
    "fuel_data.corrwith(other = fuel_data[\"fuel_cost_per_unit_burned\"], method = 'pearson').sort_values()[1:3]"
   ]
  },
  {
   "cell_type": "markdown",
   "metadata": {},
   "source": [
    "# Question 9\n",
    "\n",
    "For the fuel type coal, what is the percentage change in the fuel cost per unit burned in 1998 compared to 1994?"
   ]
  },
  {
   "cell_type": "code",
   "execution_count": 16,
   "metadata": {},
   "outputs": [
    {
     "name": "stdout",
     "output_type": "stream",
     "text": [
      "The Total Coal fuel cost per unit burned in year 1994 is: 14984.572\n",
      "The Total Coal fuel cost per unit burned in year 1998 is: 11902.597 \n",
      "\n",
      "=================PERCENTAGE CHANGE============ \n",
      "\n",
      "THE PERCENTAGE CHANGE OF FUEL COST PER UNIT BURNED IN 1998 COMPARED TO 1994 IS: -21%\n"
     ]
    }
   ],
   "source": [
    "condition_1 = ((fuel_data[\"fuel_type_code_pudl\"] == 'coal') & (fuel_data[\"report_year\"] == 1994))\n",
    "condition_2 = ((fuel_data[\"fuel_type_code_pudl\"] == 'coal') & (fuel_data[\"report_year\"] == 1998))\n",
    "\n",
    "year_1994 = fuel_data[condition_1][\"fuel_cost_per_unit_burned\"].sum()\n",
    "year_1998 = fuel_data[condition_2][\"fuel_cost_per_unit_burned\"].sum()\n",
    "print(f\"The Total Coal fuel cost per unit burned in year 1994 is: {year_1994}\")\n",
    "print(f\"The Total Coal fuel cost per unit burned in year 1998 is: {year_1998}\" ,'\\n')\n",
    "\n",
    "print(\"=================PERCENTAGE CHANGE============\",'\\n')\n",
    "\n",
    "percentage_change = ((year_1998 - year_1994) /year_1994)*100\n",
    "\n",
    "print(f\"THE PERCENTAGE CHANGE OF FUEL COST PER UNIT BURNED IN 1998 COMPARED TO 1994 IS: {round(percentage_change)}%\")"
   ]
  },
  {
   "cell_type": "markdown",
   "metadata": {},
   "source": [
    "# Question 10\n",
    "\n",
    "Which year has the highest average fuel cost per unit delivered?"
   ]
  },
  {
   "cell_type": "code",
   "execution_count": 17,
   "metadata": {},
   "outputs": [
    {
     "name": "stdout",
     "output_type": "stream",
     "text": [
      "The year with highest average fuel cost per unit delivered is: 1997\n"
     ]
    }
   ],
   "source": [
    "fuel_cost_unit_delivered_avg = dict(fuel_data.groupby(\"report_year\")[\"fuel_cost_per_unit_delivered\"].mean())\n",
    "print(f\"The year with highest average fuel cost per unit delivered is: {max(fuel_cost_unit_delivered_avg, key = fuel_cost_unit_delivered_avg.get)}\")"
   ]
  },
  {
   "cell_type": "code",
   "execution_count": 18,
   "metadata": {},
   "outputs": [
    {
     "data": {
      "text/plain": [
       "report_year\n",
       "1997    11140.197239\n",
       "1996     9196.705948\n",
       "2000      985.362877\n",
       "2009      652.694163\n",
       "2018      499.269966\n",
       "2015      326.535511\n",
       "1998      287.154420\n",
       "2014      192.737183\n",
       "2013      172.307591\n",
       "2004      139.524275\n",
       "2016      103.901761\n",
       "2010       91.862105\n",
       "1994       63.636060\n",
       "2012       60.994502\n",
       "2001       60.050396\n",
       "2011       59.774667\n",
       "2008       58.588197\n",
       "2003       55.663493\n",
       "2002       47.594361\n",
       "2017       46.196861\n",
       "2007       43.325023\n",
       "2005       41.438184\n",
       "2006       38.657484\n",
       "1995       32.735269\n",
       "1999       25.551627\n",
       "Name: fuel_cost_per_unit_delivered, dtype: float64"
      ]
     },
     "execution_count": 18,
     "metadata": {},
     "output_type": "execute_result"
    }
   ],
   "source": [
    "fuel_data.groupby(\"report_year\")[\"fuel_cost_per_unit_delivered\"].mean().sort_values(ascending = False)"
   ]
  },
  {
   "cell_type": "markdown",
   "metadata": {},
   "source": [
    "# THE END"
   ]
  }
 ],
 "metadata": {
  "kernelspec": {
   "display_name": "Python 3",
   "language": "python",
   "name": "python3"
  },
  "language_info": {
   "codemirror_mode": {
    "name": "ipython",
    "version": 3
   },
   "file_extension": ".py",
   "mimetype": "text/x-python",
   "name": "python",
   "nbconvert_exporter": "python",
   "pygments_lexer": "ipython3",
   "version": "3.8.11"
  }
 },
 "nbformat": 4,
 "nbformat_minor": 4
}
